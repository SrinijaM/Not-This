{
  "cells": [
    {
      "cell_type": "code",
      "execution_count": null,
      "metadata": {
        "id": "b2837e2d"
      },
      "outputs": [],
      "source": [
        "import numpy as np\n",
        "import pandas as pd\n",
        "import pandas_datareader as web\n",
        "import math\n",
        "import matplotlib.pyplot as plt\n",
        "from sklearn.preprocessing import StandardScaler\n",
        "import tensorflow as tf\n",
        "from keras.models import Sequential\n",
        "from keras.layers import Dense, LSTM\n",
        "plt.style.use('fivethirtyeight')\n",
        "\n",
        "import warnings\n",
        "\n",
        "warnings.filterwarnings('ignore')"
      ],
      "id": "b2837e2d"
    },
    {
      "cell_type": "code",
      "execution_count": null,
      "metadata": {
        "colab": {
          "base_uri": "https://localhost:8080/",
          "height": 424
        },
        "id": "8fc549f3",
        "outputId": "a1d0afe7-524b-42a8-a2bb-090bfa0ae6d8"
      },
      "outputs": [
        {
          "output_type": "execute_result",
          "data": {
            "text/plain": [
              "                    Date    Open    High     Low   Close    Volume\n",
              "0      4/1/2015 16:00:00   40.60   40.76   40.31   40.72  36865322\n",
              "1      4/2/2015 16:00:00   40.66   40.74   40.12   40.29  37487476\n",
              "2      4/6/2015 16:00:00   40.34   41.78   40.18   41.55  39223692\n",
              "3      4/7/2015 16:00:00   41.61   41.91   41.31   41.53  28809375\n",
              "4      4/8/2015 16:00:00   41.48   41.69   41.04   41.42  24753438\n",
              "...                  ...     ...     ...     ...     ...       ...\n",
              "1506  3/25/2021 16:00:00  235.30  236.94  231.57  232.34  34061853\n",
              "1507  3/26/2021 16:00:00  231.55  236.71  231.55  236.48  25479853\n",
              "1508  3/29/2021 16:00:00  236.59  236.80  231.88  235.24  25227455\n",
              "1509  3/30/2021 16:00:00  233.53  233.85  231.10  231.85  24792012\n",
              "1510  3/31/2021 16:00:00  232.91  239.10  232.39  235.77  43623471\n",
              "\n",
              "[1511 rows x 6 columns]"
            ],
            "text/html": [
              "\n",
              "\n",
              "  <div id=\"df-e0aba6e7-3825-4f58-81db-0dadebb37d34\">\n",
              "    <div class=\"colab-df-container\">\n",
              "      <div>\n",
              "<style scoped>\n",
              "    .dataframe tbody tr th:only-of-type {\n",
              "        vertical-align: middle;\n",
              "    }\n",
              "\n",
              "    .dataframe tbody tr th {\n",
              "        vertical-align: top;\n",
              "    }\n",
              "\n",
              "    .dataframe thead th {\n",
              "        text-align: right;\n",
              "    }\n",
              "</style>\n",
              "<table border=\"1\" class=\"dataframe\">\n",
              "  <thead>\n",
              "    <tr style=\"text-align: right;\">\n",
              "      <th></th>\n",
              "      <th>Date</th>\n",
              "      <th>Open</th>\n",
              "      <th>High</th>\n",
              "      <th>Low</th>\n",
              "      <th>Close</th>\n",
              "      <th>Volume</th>\n",
              "    </tr>\n",
              "  </thead>\n",
              "  <tbody>\n",
              "    <tr>\n",
              "      <th>0</th>\n",
              "      <td>4/1/2015 16:00:00</td>\n",
              "      <td>40.60</td>\n",
              "      <td>40.76</td>\n",
              "      <td>40.31</td>\n",
              "      <td>40.72</td>\n",
              "      <td>36865322</td>\n",
              "    </tr>\n",
              "    <tr>\n",
              "      <th>1</th>\n",
              "      <td>4/2/2015 16:00:00</td>\n",
              "      <td>40.66</td>\n",
              "      <td>40.74</td>\n",
              "      <td>40.12</td>\n",
              "      <td>40.29</td>\n",
              "      <td>37487476</td>\n",
              "    </tr>\n",
              "    <tr>\n",
              "      <th>2</th>\n",
              "      <td>4/6/2015 16:00:00</td>\n",
              "      <td>40.34</td>\n",
              "      <td>41.78</td>\n",
              "      <td>40.18</td>\n",
              "      <td>41.55</td>\n",
              "      <td>39223692</td>\n",
              "    </tr>\n",
              "    <tr>\n",
              "      <th>3</th>\n",
              "      <td>4/7/2015 16:00:00</td>\n",
              "      <td>41.61</td>\n",
              "      <td>41.91</td>\n",
              "      <td>41.31</td>\n",
              "      <td>41.53</td>\n",
              "      <td>28809375</td>\n",
              "    </tr>\n",
              "    <tr>\n",
              "      <th>4</th>\n",
              "      <td>4/8/2015 16:00:00</td>\n",
              "      <td>41.48</td>\n",
              "      <td>41.69</td>\n",
              "      <td>41.04</td>\n",
              "      <td>41.42</td>\n",
              "      <td>24753438</td>\n",
              "    </tr>\n",
              "    <tr>\n",
              "      <th>...</th>\n",
              "      <td>...</td>\n",
              "      <td>...</td>\n",
              "      <td>...</td>\n",
              "      <td>...</td>\n",
              "      <td>...</td>\n",
              "      <td>...</td>\n",
              "    </tr>\n",
              "    <tr>\n",
              "      <th>1506</th>\n",
              "      <td>3/25/2021 16:00:00</td>\n",
              "      <td>235.30</td>\n",
              "      <td>236.94</td>\n",
              "      <td>231.57</td>\n",
              "      <td>232.34</td>\n",
              "      <td>34061853</td>\n",
              "    </tr>\n",
              "    <tr>\n",
              "      <th>1507</th>\n",
              "      <td>3/26/2021 16:00:00</td>\n",
              "      <td>231.55</td>\n",
              "      <td>236.71</td>\n",
              "      <td>231.55</td>\n",
              "      <td>236.48</td>\n",
              "      <td>25479853</td>\n",
              "    </tr>\n",
              "    <tr>\n",
              "      <th>1508</th>\n",
              "      <td>3/29/2021 16:00:00</td>\n",
              "      <td>236.59</td>\n",
              "      <td>236.80</td>\n",
              "      <td>231.88</td>\n",
              "      <td>235.24</td>\n",
              "      <td>25227455</td>\n",
              "    </tr>\n",
              "    <tr>\n",
              "      <th>1509</th>\n",
              "      <td>3/30/2021 16:00:00</td>\n",
              "      <td>233.53</td>\n",
              "      <td>233.85</td>\n",
              "      <td>231.10</td>\n",
              "      <td>231.85</td>\n",
              "      <td>24792012</td>\n",
              "    </tr>\n",
              "    <tr>\n",
              "      <th>1510</th>\n",
              "      <td>3/31/2021 16:00:00</td>\n",
              "      <td>232.91</td>\n",
              "      <td>239.10</td>\n",
              "      <td>232.39</td>\n",
              "      <td>235.77</td>\n",
              "      <td>43623471</td>\n",
              "    </tr>\n",
              "  </tbody>\n",
              "</table>\n",
              "<p>1511 rows × 6 columns</p>\n",
              "</div>\n",
              "      <button class=\"colab-df-convert\" onclick=\"convertToInteractive('df-e0aba6e7-3825-4f58-81db-0dadebb37d34')\"\n",
              "              title=\"Convert this dataframe to an interactive table.\"\n",
              "              style=\"display:none;\">\n",
              "\n",
              "  <svg xmlns=\"http://www.w3.org/2000/svg\" height=\"24px\"viewBox=\"0 0 24 24\"\n",
              "       width=\"24px\">\n",
              "    <path d=\"M0 0h24v24H0V0z\" fill=\"none\"/>\n",
              "    <path d=\"M18.56 5.44l.94 2.06.94-2.06 2.06-.94-2.06-.94-.94-2.06-.94 2.06-2.06.94zm-11 1L8.5 8.5l.94-2.06 2.06-.94-2.06-.94L8.5 2.5l-.94 2.06-2.06.94zm10 10l.94 2.06.94-2.06 2.06-.94-2.06-.94-.94-2.06-.94 2.06-2.06.94z\"/><path d=\"M17.41 7.96l-1.37-1.37c-.4-.4-.92-.59-1.43-.59-.52 0-1.04.2-1.43.59L10.3 9.45l-7.72 7.72c-.78.78-.78 2.05 0 2.83L4 21.41c.39.39.9.59 1.41.59.51 0 1.02-.2 1.41-.59l7.78-7.78 2.81-2.81c.8-.78.8-2.07 0-2.86zM5.41 20L4 18.59l7.72-7.72 1.47 1.35L5.41 20z\"/>\n",
              "  </svg>\n",
              "      </button>\n",
              "\n",
              "\n",
              "\n",
              "    <div id=\"df-b8105f1f-d87c-469c-900d-9fadc50a9ab1\">\n",
              "      <button class=\"colab-df-quickchart\" onclick=\"quickchart('df-b8105f1f-d87c-469c-900d-9fadc50a9ab1')\"\n",
              "              title=\"Suggest charts.\"\n",
              "              style=\"display:none;\">\n",
              "\n",
              "<svg xmlns=\"http://www.w3.org/2000/svg\" height=\"24px\"viewBox=\"0 0 24 24\"\n",
              "     width=\"24px\">\n",
              "    <g>\n",
              "        <path d=\"M19 3H5c-1.1 0-2 .9-2 2v14c0 1.1.9 2 2 2h14c1.1 0 2-.9 2-2V5c0-1.1-.9-2-2-2zM9 17H7v-7h2v7zm4 0h-2V7h2v10zm4 0h-2v-4h2v4z\"/>\n",
              "    </g>\n",
              "</svg>\n",
              "      </button>\n",
              "    </div>\n",
              "\n",
              "<style>\n",
              "  .colab-df-quickchart {\n",
              "    background-color: #E8F0FE;\n",
              "    border: none;\n",
              "    border-radius: 50%;\n",
              "    cursor: pointer;\n",
              "    display: none;\n",
              "    fill: #1967D2;\n",
              "    height: 32px;\n",
              "    padding: 0 0 0 0;\n",
              "    width: 32px;\n",
              "  }\n",
              "\n",
              "  .colab-df-quickchart:hover {\n",
              "    background-color: #E2EBFA;\n",
              "    box-shadow: 0px 1px 2px rgba(60, 64, 67, 0.3), 0px 1px 3px 1px rgba(60, 64, 67, 0.15);\n",
              "    fill: #174EA6;\n",
              "  }\n",
              "\n",
              "  [theme=dark] .colab-df-quickchart {\n",
              "    background-color: #3B4455;\n",
              "    fill: #D2E3FC;\n",
              "  }\n",
              "\n",
              "  [theme=dark] .colab-df-quickchart:hover {\n",
              "    background-color: #434B5C;\n",
              "    box-shadow: 0px 1px 3px 1px rgba(0, 0, 0, 0.15);\n",
              "    filter: drop-shadow(0px 1px 2px rgba(0, 0, 0, 0.3));\n",
              "    fill: #FFFFFF;\n",
              "  }\n",
              "</style>\n",
              "\n",
              "    <script>\n",
              "      async function quickchart(key) {\n",
              "        const containerElement = document.querySelector('#' + key);\n",
              "        const charts = await google.colab.kernel.invokeFunction(\n",
              "            'suggestCharts', [key], {});\n",
              "      }\n",
              "    </script>\n",
              "\n",
              "      <script>\n",
              "\n",
              "function displayQuickchartButton(domScope) {\n",
              "  let quickchartButtonEl =\n",
              "    domScope.querySelector('#df-b8105f1f-d87c-469c-900d-9fadc50a9ab1 button.colab-df-quickchart');\n",
              "  quickchartButtonEl.style.display =\n",
              "    google.colab.kernel.accessAllowed ? 'block' : 'none';\n",
              "}\n",
              "\n",
              "        displayQuickchartButton(document);\n",
              "      </script>\n",
              "      <style>\n",
              "    .colab-df-container {\n",
              "      display:flex;\n",
              "      flex-wrap:wrap;\n",
              "      gap: 12px;\n",
              "    }\n",
              "\n",
              "    .colab-df-convert {\n",
              "      background-color: #E8F0FE;\n",
              "      border: none;\n",
              "      border-radius: 50%;\n",
              "      cursor: pointer;\n",
              "      display: none;\n",
              "      fill: #1967D2;\n",
              "      height: 32px;\n",
              "      padding: 0 0 0 0;\n",
              "      width: 32px;\n",
              "    }\n",
              "\n",
              "    .colab-df-convert:hover {\n",
              "      background-color: #E2EBFA;\n",
              "      box-shadow: 0px 1px 2px rgba(60, 64, 67, 0.3), 0px 1px 3px 1px rgba(60, 64, 67, 0.15);\n",
              "      fill: #174EA6;\n",
              "    }\n",
              "\n",
              "    [theme=dark] .colab-df-convert {\n",
              "      background-color: #3B4455;\n",
              "      fill: #D2E3FC;\n",
              "    }\n",
              "\n",
              "    [theme=dark] .colab-df-convert:hover {\n",
              "      background-color: #434B5C;\n",
              "      box-shadow: 0px 1px 3px 1px rgba(0, 0, 0, 0.15);\n",
              "      filter: drop-shadow(0px 1px 2px rgba(0, 0, 0, 0.3));\n",
              "      fill: #FFFFFF;\n",
              "    }\n",
              "  </style>\n",
              "\n",
              "      <script>\n",
              "        const buttonEl =\n",
              "          document.querySelector('#df-e0aba6e7-3825-4f58-81db-0dadebb37d34 button.colab-df-convert');\n",
              "        buttonEl.style.display =\n",
              "          google.colab.kernel.accessAllowed ? 'block' : 'none';\n",
              "\n",
              "        async function convertToInteractive(key) {\n",
              "          const element = document.querySelector('#df-e0aba6e7-3825-4f58-81db-0dadebb37d34');\n",
              "          const dataTable =\n",
              "            await google.colab.kernel.invokeFunction('convertToInteractive',\n",
              "                                                     [key], {});\n",
              "          if (!dataTable) return;\n",
              "\n",
              "          const docLinkHtml = 'Like what you see? Visit the ' +\n",
              "            '<a target=\"_blank\" href=https://colab.research.google.com/notebooks/data_table.ipynb>data table notebook</a>'\n",
              "            + ' to learn more about interactive tables.';\n",
              "          element.innerHTML = '';\n",
              "          dataTable['output_type'] = 'display_data';\n",
              "          await google.colab.output.renderOutput(dataTable, element);\n",
              "          const docLink = document.createElement('div');\n",
              "          docLink.innerHTML = docLinkHtml;\n",
              "          element.appendChild(docLink);\n",
              "        }\n",
              "      </script>\n",
              "    </div>\n",
              "  </div>\n"
            ]
          },
          "metadata": {},
          "execution_count": 4
        }
      ],
      "source": [
        "df = pd.read_csv(\"/content/file.csv\")\n",
        "\n",
        "#show the dataset\n",
        "df"
      ],
      "id": "8fc549f3"
    },
    {
      "cell_type": "code",
      "execution_count": null,
      "metadata": {
        "colab": {
          "base_uri": "https://localhost:8080/"
        },
        "id": "50e5cdc6",
        "outputId": "6727ebf0-3888-4ed4-ecb8-f84313bf4ccb"
      },
      "outputs": [
        {
          "output_type": "execute_result",
          "data": {
            "text/plain": [
              "(1511, 6)"
            ]
          },
          "metadata": {},
          "execution_count": 5
        }
      ],
      "source": [
        "df.shape"
      ],
      "id": "50e5cdc6"
    },
    {
      "cell_type": "code",
      "execution_count": null,
      "metadata": {
        "colab": {
          "base_uri": "https://localhost:8080/",
          "height": 463
        },
        "id": "d16aa1ce",
        "outputId": "1ec23032-e164-4dc6-f310-f972d36797d7"
      },
      "outputs": [
        {
          "output_type": "display_data",
          "data": {
            "text/plain": [
              "<Figure size 1600x800 with 1 Axes>"
            ],
            "image/png": "[encoded data removed]"
          },
          "metadata": {}
        }
      ],
      "source": [
        "#visualize the closing prices\n",
        "plt.figure(figsize=(16,8))\n",
        "plt.title('closing price of Stock')\n",
        "plt.plot(df[\"Close\"])\n",
        "plt.xlabel('Data')\n",
        "plt.ylabel('Closing price')\n",
        "plt.show()"
      ],
      "id": "d16aa1ce"
    },
    {
      "cell_type": "code",
      "execution_count": null,
      "metadata": {
        "colab": {
          "base_uri": "https://localhost:8080/"
        },
        "id": "7752553f",
        "outputId": "ec9eb5ef-30be-4fdf-b716-fce157ed20b4"
      },
      "outputs": [
        {
          "output_type": "execute_result",
          "data": {
            "text/plain": [
              "1209"
            ]
          },
          "metadata": {},
          "execution_count": 7
        }
      ],
      "source": [
        "#create new database with only required coloumns\n",
        "data=df.filter(['Close'])\n",
        "#convert the dataframe to numpy array\n",
        "dataset=data.values\n",
        "#get the number of rows to train 80 percent\n",
        "training_data_len=math.ceil(len(dataset)*0.8)\n",
        "training_data_len"
      ],
      "id": "7752553f"
    },
    {
      "cell_type": "code",
      "execution_count": null,
      "metadata": {
        "colab": {
          "base_uri": "https://localhost:8080/"
        },
        "id": "dfd2943d",
        "outputId": "90effdfe-e88f-419a-ae93-24925abcb4dd"
      },
      "outputs": [
        {
          "output_type": "stream",
          "name": "stdout",
          "text": [
            "MEAN of processed data:  3.009578761657605e-16\n",
            "Standard deviation of processed data:  0.9999999999999999\n"
          ]
        }
      ],
      "source": [
        "#scale the data\n",
        "scaler=StandardScaler()\n",
        "scaled_data=scaler.fit_transform(dataset)\n",
        "print(\"MEAN of processed data: \",scaled_data.mean())\n",
        "print(\"Standard deviation of processed data: \",scaled_data.std())"
      ],
      "id": "dfd2943d"
    },
    {
      "cell_type": "code",
      "execution_count": null,
      "metadata": {
        "colab": {
          "base_uri": "https://localhost:8080/"
        },
        "id": "nX_Vkc8MWQMu",
        "outputId": "c16abf90-5b34-4472-c3e8-09198ff4a7d8"
      },
      "outputs": [
        {
          "output_type": "execute_result",
          "data": {
            "text/plain": [
              "array([[-1.17674549],\n",
              "       [-1.18433147],\n",
              "       [-1.16210279],\n",
              "       ...,\n",
              "       [ 2.25493901],\n",
              "       [ 2.19513328],\n",
              "       [ 2.26428917]])"
            ]
          },
          "metadata": {},
          "execution_count": 9
        }
      ],
      "source": [
        "scaled_data"
      ],
      "id": "nX_Vkc8MWQMu"
    },
    {
      "cell_type": "code",
      "execution_count": null,
      "metadata": {
        "id": "QJyeDCHpVLuu"
      },
      "outputs": [],
      "source": [
        "if True in df['Close'].isna():\n",
        "  print('existential crisis')"
      ],
      "id": "QJyeDCHpVLuu"
    },
    {
      "cell_type": "code",
      "execution_count": null,
      "metadata": {
        "id": "927a525c"
      },
      "outputs": [],
      "source": [
        "#create the training data\n",
        "#create scaled training dataset\n",
        "train_data = scaled_data[0:training_data_len, :]\n",
        "#split the data to x_train and y_train\n",
        "x_train=[]\n",
        "y_train=[]\n",
        "for i in range(60,len(train_data)):\n",
        "  x_train.append(train_data[i-60:i])\n",
        "  y_train.append(train_data[i])\n",
        "x_train=np.array(x_train)\n",
        "y_train=np.array(y_train)"
      ],
      "id": "927a525c"
    },
    {
      "cell_type": "code",
      "execution_count": null,
      "metadata": {
        "colab": {
          "base_uri": "https://localhost:8080/"
        },
        "id": "674d2a84",
        "outputId": "9623c585-3aa9-4a01-8da3-1c0db146c3a9"
      },
      "outputs": [
        {
          "output_type": "stream",
          "name": "stdout",
          "text": [
            "x_train shape before reshaping (1149, 60, 1)\n",
            "x_train shape after reshaping (1149, 60, 1)\n"
          ]
        }
      ],
      "source": [
        "import numpy as np\n",
        "#reshape the data\n",
        "print(\"x_train shape before reshaping\",x_train.shape)\n",
        "x_train = np.reshape(x_train,(x_train.shape[0],x_train.shape[1],1)) #np.reshape(x_train,(x_train.shape[0],x_train.shape[1],1))\n",
        "print(\"x_train shape after reshaping\",x_train.shape)"
      ],
      "id": "674d2a84"
    },
    {
      "cell_type": "code",
      "execution_count": null,
      "metadata": {
        "colab": {
          "base_uri": "https://localhost:8080/"
        },
        "id": "giovhtJDVhkI",
        "outputId": "697a3baf-a5e5-49c1-9fff-ebc69e503225"
      },
      "outputs": [
        {
          "output_type": "execute_result",
          "data": {
            "text/plain": [
              "60"
            ]
          },
          "metadata": {},
          "execution_count": 13
        }
      ],
      "source": [
        "len(x_train[0])"
      ],
      "id": "giovhtJDVhkI"
    },
    {
      "cell_type": "code",
      "execution_count": null,
      "metadata": {
        "id": "216b3a63"
      },
      "outputs": [],
      "source": [
        "#build LSTM model\n",
        "model= Sequential()\n",
        "model.add(LSTM(200,return_sequences=True,input_shape=(x_train.shape[1], 1)))\n",
        "model.add(LSTM(200,return_sequences=False))\n",
        "model.add(Dense(1))"
      ],
      "id": "216b3a63"
    },
    {
      "cell_type": "code",
      "execution_count": null,
      "metadata": {
        "id": "fbe78cda"
      },
      "outputs": [],
      "source": [
        "#compile the model\n",
        "model.compile(optimizer='adam',loss='mean_absolute_error')"
      ],
      "id": "fbe78cda"
    },
    {
      "cell_type": "code",
      "execution_count": null,
      "metadata": {
        "colab": {
          "base_uri": "https://localhost:8080/"
        },
        "id": "b55c56df",
        "outputId": "1a534484-4a00-4c8b-9b97-1116b9f70229"
      },
      "outputs": [
        {
          "output_type": "stream",
          "name": "stdout",
          "text": [
            "Model: \"sequential\"\n",
            "_________________________________________________________________\n",
            " Layer (type)                Output Shape              Param #   \n",
            "=================================================================\n",
            " lstm (LSTM)                 (None, 60, 200)           161600    \n",
            "                                                                 \n",
            " lstm_1 (LSTM)               (None, 200)               320800    \n",
            "                                                                 \n",
            " dense (Dense)               (None, 1)                 201       \n",
            "                                                                 \n",
            "=================================================================\n",
            "Total params: 482,601\n",
            "Trainable params: 482,601\n",
            "Non-trainable params: 0\n",
            "_________________________________________________________________\n"
          ]
        }
      ],
      "source": [
        "model.summary()"
      ],
      "id": "b55c56df"
    },
    {
      "cell_type": "code",
      "execution_count": null,
      "metadata": {
        "colab": {
          "base_uri": "https://localhost:8080/"
        },
        "id": "313e374d",
        "outputId": "ebf4e4c5-4e98-4074-f661-130028ebabdf"
      },
      "outputs": [
        {
          "output_type": "stream",
          "name": "stdout",
          "text": [
            "Epoch 1/20\n",
            "36/36 [==============================] - 15s 287ms/step - loss: 0.0688\n",
            "Epoch 2/20\n",
            "36/36 [==============================] - 10s 284ms/step - loss: 0.0364\n",
            "Epoch 3/20\n",
            "36/36 [==============================] - 11s 300ms/step - loss: 0.0364\n",
            "Epoch 4/20\n",
            "36/36 [==============================] - 10s 284ms/step - loss: 0.0282\n",
            "Epoch 5/20\n",
            "36/36 [==============================] - 9s 259ms/step - loss: 0.0265\n",
            "Epoch 6/20\n",
            "36/36 [==============================] - 10s 286ms/step - loss: 0.0279\n",
            "Epoch 7/20\n",
            "36/36 [==============================] - 10s 288ms/step - loss: 0.0250\n",
            "Epoch 8/20\n",
            "36/36 [==============================] - 10s 288ms/step - loss: 0.0238\n",
            "Epoch 9/20\n",
            "36/36 [==============================] - 10s 286ms/step - loss: 0.0287\n",
            "Epoch 10/20\n",
            "36/36 [==============================] - 9s 257ms/step - loss: 0.0299\n",
            "Epoch 11/20\n",
            "36/36 [==============================] - 10s 288ms/step - loss: 0.0224\n",
            "Epoch 12/20\n",
            "36/36 [==============================] - 10s 287ms/step - loss: 0.0244\n",
            "Epoch 13/20\n",
            "36/36 [==============================] - 10s 288ms/step - loss: 0.0213\n",
            "Epoch 14/20\n",
            "36/36 [==============================] - 10s 290ms/step - loss: 0.0210\n",
            "Epoch 15/20\n",
            "36/36 [==============================] - 9s 261ms/step - loss: 0.0227\n",
            "Epoch 16/20\n",
            "36/36 [==============================] - 11s 298ms/step - loss: 0.0258\n",
            "Epoch 17/20\n",
            "36/36 [==============================] - 11s 299ms/step - loss: 0.0229\n",
            "Epoch 18/20\n",
            "36/36 [==============================] - 11s 305ms/step - loss: 0.0222\n",
            "Epoch 19/20\n",
            "36/36 [==============================] - 11s 306ms/step - loss: 0.0218\n",
            "Epoch 20/20\n",
            "36/36 [==============================] - 11s 307ms/step - loss: 0.0202\n"
          ]
        }
      ],
      "source": [
        "#train the model\n",
        "history = model.fit(x_train,y_train,epochs=20)"
      ],
      "id": "313e374d"
    },
    {
      "cell_type": "code",
      "execution_count": null,
      "metadata": {
        "colab": {
          "base_uri": "https://localhost:8080/",
          "height": 466
        },
        "id": "0c8b6112",
        "outputId": "7b1fa6f2-5f87-4c9c-ef7b-7df41a75087e"
      },
      "outputs": [
        {
          "output_type": "execute_result",
          "data": {
            "text/plain": [
              "[<matplotlib.lines.Line2D at 0x7e9e18aa56c0>]"
            ]
          },
          "metadata": {},
          "execution_count": 18
        },
        {
          "output_type": "display_data",
          "data": {
            "text/plain": [
              "<Figure size 640x480 with 1 Axes>"
            ],
            "image/png": "[encoded data removed]"
          },
          "metadata": {}
        }
      ],
      "source": [
        "plt.plot(history.history['loss'])"
      ],
      "id": "0c8b6112"
    },
    {
      "cell_type": "code",
      "execution_count": null,
      "metadata": {
        "colab": {
          "base_uri": "https://localhost:8080/"
        },
        "id": "gIBcog8-X0gU",
        "outputId": "bf66e733-e844-4c09-81c3-77027dc3e5e9"
      },
      "outputs": [
        {
          "output_type": "stream",
          "name": "stdout",
          "text": [
            "18/18 [==============================] - 9s 106ms/step - loss: 0.0939\n"
          ]
        },
        {
          "output_type": "execute_result",
          "data": {
            "text/plain": [
              "<keras.callbacks.History at 0x7e9e1472f2e0>"
            ]
          },
          "metadata": {},
          "execution_count": 19
        }
      ],
      "source": [
        "import keras\n",
        "model=keras.Sequential()\n",
        "model.add(LSTM(50,return_sequences=True,input_shape=(60,1)))\n",
        "model.add(LSTM(50,return_sequences=True))\n",
        "model.add(LSTM(50))\n",
        "model.add(Dense(1))\n",
        "model.compile(loss='mean_squared_error',optimizer='adam')\n",
        "model.fit(x_train,y_train,epochs=1,batch_size=64,verbose=1)"
      ],
      "id": "gIBcog8-X0gU"
    },
    {
      "cell_type": "code",
      "execution_count": null,
      "metadata": {
        "id": "f6e4d847"
      },
      "outputs": [],
      "source": [
        "#create the testing dataset\n",
        "#createt new array\n",
        "test_data=scaled_data[training_data_len-60:, :]\n",
        "#create the dataset x_test and y_test\n",
        "x_test=[]\n",
        "y_test=dataset[training_data_len: , :]\n",
        "for i in range(60,len(test_data)):\n",
        "  x_test.append(test_data[i-60:i, 0])"
      ],
      "id": "f6e4d847"
    },
    {
      "cell_type": "code",
      "execution_count": null,
      "metadata": {
        "id": "0091ae3f"
      },
      "outputs": [],
      "source": [
        "#convert the data to numpy\n",
        "x_test=np.array(x_test)"
      ],
      "id": "0091ae3f"
    },
    {
      "cell_type": "code",
      "execution_count": null,
      "metadata": {
        "id": "5601b159"
      },
      "outputs": [],
      "source": [
        "#reshape the data\n",
        "\n",
        "x_test=np.reshape(x_test,(x_test.shape[0],x_test.shape[1],1))"
      ],
      "id": "5601b159"
    },
    {
      "cell_type": "code",
      "execution_count": null,
      "metadata": {
        "colab": {
          "base_uri": "https://localhost:8080/"
        },
        "id": "b7aab1d5",
        "outputId": "215d7e1b-fe7b-4885-eadd-2b07507ff8aa"
      },
      "outputs": [
        {
          "output_type": "stream",
          "name": "stdout",
          "text": [
            "10/10 [==============================] - 1s 23ms/step\n",
            "[[157.21535]\n",
            " [157.55515]\n",
            " [157.90398]\n",
            " [158.2584 ]\n",
            " [158.60608]\n",
            " [158.92685]\n",
            " [159.22498]\n",
            " [159.51207]\n",
            " [159.81337]\n",
            " [160.12685]\n",
            " [160.46703]\n",
            " [160.85861]\n",
            " [161.30467]\n",
            " [161.81416]\n",
            " [162.3814 ]\n",
            " [163.0123 ]\n",
            " [163.68118]\n",
            " [164.3692 ]\n",
            " [165.055  ]\n",
            " [165.72864]\n",
            " [166.38687]\n",
            " [167.02403]\n",
            " [167.62468]\n",
            " [168.16032]\n",
            " [168.59233]\n",
            " [168.89809]\n",
            " [169.08205]\n",
            " [169.1087 ]\n",
            " [168.99176]\n",
            " [168.78998]\n",
            " [168.50714]\n",
            " [168.18272]\n",
            " [167.8231 ]\n",
            " [167.4205 ]\n",
            " [166.93231]\n",
            " [166.39198]\n",
            " [165.78859]\n",
            " [165.06377]\n",
            " [164.29172]\n",
            " [163.405  ]\n",
            " [162.44218]\n",
            " [161.39941]\n",
            " [160.30034]\n",
            " [159.13998]\n",
            " [157.92104]\n",
            " [156.71901]\n",
            " [155.5704 ]\n",
            " [154.5468 ]\n",
            " [153.64966]\n",
            " [152.93155]\n",
            " [152.39545]\n",
            " [152.00584]\n",
            " [151.75046]\n",
            " [151.60474]\n",
            " [151.6032 ]\n",
            " [151.74014]\n",
            " [152.00906]\n",
            " [152.39201]\n",
            " [152.86845]\n",
            " [153.45244]\n",
            " [154.12665]\n",
            " [154.89229]\n",
            " [155.74039]\n",
            " [156.6372 ]\n",
            " [157.5244 ]\n",
            " [158.39076]\n",
            " [159.21461]\n",
            " [159.9963 ]\n",
            " [160.73093]\n",
            " [161.3979 ]\n",
            " [162.0203 ]\n",
            " [162.61337]\n",
            " [163.16565]\n",
            " [163.68977]\n",
            " [164.19617]\n",
            " [164.69518]\n",
            " [165.19244]\n",
            " [165.69167]\n",
            " [166.19798]\n",
            " [166.6939 ]\n",
            " [167.15955]\n",
            " [167.58714]\n",
            " [167.98166]\n",
            " [168.35114]\n",
            " [168.6946 ]\n",
            " [169.01971]\n",
            " [169.32101]\n",
            " [169.59663]\n",
            " [169.83972]\n",
            " [170.0495 ]\n",
            " [170.22441]\n",
            " [170.37323]\n",
            " [170.49893]\n",
            " [170.61226]\n",
            " [170.71959]\n",
            " [170.81677]\n",
            " [170.91666]\n",
            " [171.02682]\n",
            " [171.15616]\n",
            " [171.3272 ]\n",
            " [171.51093]\n",
            " [171.69907]\n",
            " [171.88756]\n",
            " [172.08734]\n",
            " [172.30222]\n",
            " [172.5387 ]\n",
            " [172.79106]\n",
            " [173.07137]\n",
            " [173.38167]\n",
            " [173.70665]\n",
            " [174.0434 ]\n",
            " [174.3729 ]\n",
            " [174.69247]\n",
            " [175.01212]\n",
            " [175.33646]\n",
            " [175.66922]\n",
            " [176.02112]\n",
            " [176.38426]\n",
            " [176.76521]\n",
            " [177.16383]\n",
            " [177.5733 ]\n",
            " [177.96957]\n",
            " [178.34488]\n",
            " [178.69136]\n",
            " [178.99483]\n",
            " [179.24945]\n",
            " [179.47691]\n",
            " [179.67757]\n",
            " [179.86371]\n",
            " [180.01573]\n",
            " [180.12791]\n",
            " [180.20511]\n",
            " [180.2461 ]\n",
            " [180.2605 ]\n",
            " [180.25372]\n",
            " [180.23412]\n",
            " [180.23685]\n",
            " [180.26405]\n",
            " [180.31758]\n",
            " [180.40334]\n",
            " [180.50917]\n",
            " [180.61838]\n",
            " [180.71004]\n",
            " [180.79047]\n",
            " [180.85805]\n",
            " [180.91487]\n",
            " [180.96577]\n",
            " [181.0159 ]\n",
            " [181.06279]\n",
            " [181.11853]\n",
            " [181.18127]\n",
            " [181.25261]\n",
            " [181.33798]\n",
            " [181.44818]\n",
            " [181.59625]\n",
            " [181.78732]\n",
            " [182.01068]\n",
            " [182.26198]\n",
            " [182.54187]\n",
            " [182.81259]\n",
            " [183.05553]\n",
            " [183.23337]\n",
            " [183.35661]\n",
            " [183.4134 ]\n",
            " [183.40517]\n",
            " [183.34111]\n",
            " [183.23862]\n",
            " [183.10056]\n",
            " [182.92982]\n",
            " [182.72575]\n",
            " [182.49872]\n",
            " [182.26859]\n",
            " [182.02815]\n",
            " [181.7876 ]\n",
            " [181.56308]\n",
            " [181.3657 ]\n",
            " [181.19484]\n",
            " [181.05815]\n",
            " [180.96097]\n",
            " [180.88657]\n",
            " [180.83904]\n",
            " [180.80318]\n",
            " [180.78372]\n",
            " [180.7805 ]\n",
            " [180.80551]\n",
            " [180.87329]\n",
            " [180.98836]\n",
            " [181.14297]\n",
            " [181.32674]\n",
            " [181.52992]\n",
            " [181.73126]\n",
            " [181.92233]\n",
            " [182.097  ]\n",
            " [182.25269]\n",
            " [182.39182]\n",
            " [182.50105]\n",
            " [182.58665]\n",
            " [182.62462]\n",
            " [182.61783]\n",
            " [182.56255]\n",
            " [182.46277]\n",
            " [182.33524]\n",
            " [182.21495]\n",
            " [182.13292]\n",
            " [182.10153]\n",
            " [182.11127]\n",
            " [182.13852]\n",
            " [182.18495]\n",
            " [182.24188]\n",
            " [182.30798]\n",
            " [182.382  ]\n",
            " [182.45537]\n",
            " [182.51686]\n",
            " [182.56555]\n",
            " [182.59541]\n",
            " [182.60551]\n",
            " [182.60577]\n",
            " [182.60034]\n",
            " [182.59612]\n",
            " [182.59283]\n",
            " [182.5966 ]\n",
            " [182.60625]\n",
            " [182.61919]\n",
            " [182.63403]\n",
            " [182.64937]\n",
            " [182.66849]\n",
            " [182.68175]\n",
            " [182.684  ]\n",
            " [182.67989]\n",
            " [182.67287]\n",
            " [182.66513]\n",
            " [182.67043]\n",
            " [182.69196]\n",
            " [182.72908]\n",
            " [182.7893 ]\n",
            " [182.87444]\n",
            " [182.97598]\n",
            " [183.0931 ]\n",
            " [183.22603]\n",
            " [183.3698 ]\n",
            " [183.51541]\n",
            " [183.6596 ]\n",
            " [183.78839]\n",
            " [183.89832]\n",
            " [183.97455]\n",
            " [184.02869]\n",
            " [184.06659]\n",
            " [184.08865]\n",
            " [184.09221]\n",
            " [184.08154]\n",
            " [184.05122]\n",
            " [184.00186]\n",
            " [183.94391]\n",
            " [183.89984]\n",
            " [183.8784 ]\n",
            " [183.88573]\n",
            " [183.9296 ]\n",
            " [184.014  ]\n",
            " [184.137  ]\n",
            " [184.30527]\n",
            " [184.49905]\n",
            " [184.72502]\n",
            " [184.97484]\n",
            " [185.24861]\n",
            " [185.53767]\n",
            " [185.83571]\n",
            " [186.13625]\n",
            " [186.4357 ]\n",
            " [186.72751]\n",
            " [187.01073]\n",
            " [187.28308]\n",
            " [187.54037]\n",
            " [187.7818 ]\n",
            " [188.00528]\n",
            " [188.20549]\n",
            " [188.3711 ]\n",
            " [188.49913]\n",
            " [188.5915 ]\n",
            " [188.64096]\n",
            " [188.6571 ]\n",
            " [188.65236]\n",
            " [188.62807]\n",
            " [188.57866]\n",
            " [188.50504]\n",
            " [188.418  ]\n",
            " [188.31407]\n",
            " [188.2097 ]\n",
            " [188.10672]\n",
            " [188.01816]\n",
            " [187.94435]\n",
            " [187.88504]\n",
            " [187.84462]\n",
            " [187.8206 ]\n",
            " [187.8    ]\n",
            " [187.7787 ]\n",
            " [187.7635 ]\n",
            " [187.75696]\n",
            " [187.75656]\n",
            " [187.7564 ]\n",
            " [187.76208]\n",
            " [187.7703 ]\n",
            " [187.77483]]\n"
          ]
        }
      ],
      "source": [
        "#get the model predicted value\n",
        "predictions =model.predict(x_test)\n",
        "predictions=scaler.inverse_transform(predictions)\n",
        "print(predictions)"
      ],
      "id": "b7aab1d5"
    },
    {
      "cell_type": "code",
      "execution_count": null,
      "metadata": {
        "id": "e32a4971"
      },
      "outputs": [],
      "source": [
        "#plot the data\n",
        "train=data[:training_data_len]\n",
        "valid=data[training_data_len:]\n",
        "valid['Predictions']=predictions"
      ],
      "id": "e32a4971"
    },
    {
      "cell_type": "code",
      "execution_count": null,
      "metadata": {
        "colab": {
          "base_uri": "https://localhost:8080/",
          "height": 54
        },
        "id": "73958568",
        "outputId": "87e0ab32-c009-4f0e-8af6-d0f539885f09"
      },
      "outputs": [
        {
          "output_type": "display_data",
          "data": {
            "text/plain": [
              "<Figure size 1600x800 with 1 Axes>"
            ],
            "image/png": "[encoded data removed]"
          },
          "metadata": {}
        }
      ],
      "source": [
        "#visualize the data\n",
        "plt.figure(figsize=(16,8))\n",
        "plt.title('Model')\n",
        "plt.xlabel('Data')\n",
        "plt.ylabel('Close prise INR')\n",
        "plt.plot(train['Close'])\n",
        "plt.plot(valid[['Close','Predictions']])\n",
        "plt.legend(['Train','Test','Predictions'],loc='lower right')\n",
        "plt.show()"
      ],
      "id": "73958568"
    },
    {
      "cell_type": "code",
      "execution_count": null,
      "metadata": {
        "colab": {
          "base_uri": "https://localhost:8080/",
          "height": 424
        },
        "id": "50e8af8e",
        "outputId": "a99e9bc9-f969-4d6d-9481-f4a5c1a22bfe"
      },
      "outputs": [
        {
          "output_type": "execute_result",
          "data": {
            "text/plain": [
              "       Close  Predictions\n",
              "1209  166.50   157.215347\n",
              "1210  165.70   157.555145\n",
              "1211  166.72   157.903976\n",
              "1212  165.04   158.258408\n",
              "1213  162.28   158.606079\n",
              "...      ...          ...\n",
              "1506  232.34   187.756561\n",
              "1507  236.48   187.756393\n",
              "1508  235.24   187.762085\n",
              "1509  231.85   187.770294\n",
              "1510  235.77   187.774826\n",
              "\n",
              "[302 rows x 2 columns]"
            ],
            "text/html": [
              "\n",
              "\n",
              "  <div id=\"df-18493ae6-e953-4487-8180-8621af7ae349\">\n",
              "    <div class=\"colab-df-container\">\n",
              "      <div>\n",
              "<style scoped>\n",
              "    .dataframe tbody tr th:only-of-type {\n",
              "        vertical-align: middle;\n",
              "    }\n",
              "\n",
              "    .dataframe tbody tr th {\n",
              "        vertical-align: top;\n",
              "    }\n",
              "\n",
              "    .dataframe thead th {\n",
              "        text-align: right;\n",
              "    }\n",
              "</style>\n",
              "<table border=\"1\" class=\"dataframe\">\n",
              "  <thead>\n",
              "    <tr style=\"text-align: right;\">\n",
              "      <th></th>\n",
              "      <th>Close</th>\n",
              "      <th>Predictions</th>\n",
              "    </tr>\n",
              "  </thead>\n",
              "  <tbody>\n",
              "    <tr>\n",
              "      <th>1209</th>\n",
              "      <td>166.50</td>\n",
              "      <td>157.215347</td>\n",
              "    </tr>\n",
              "    <tr>\n",
              "      <th>1210</th>\n",
              "      <td>165.70</td>\n",
              "      <td>157.555145</td>\n",
              "    </tr>\n",
              "    <tr>\n",
              "      <th>1211</th>\n",
              "      <td>166.72</td>\n",
              "      <td>157.903976</td>\n",
              "    </tr>\n",
              "    <tr>\n",
              "      <th>1212</th>\n",
              "      <td>165.04</td>\n",
              "      <td>158.258408</td>\n",
              "    </tr>\n",
              "    <tr>\n",
              "      <th>1213</th>\n",
              "      <td>162.28</td>\n",
              "      <td>158.606079</td>\n",
              "    </tr>\n",
              "    <tr>\n",
              "      <th>...</th>\n",
              "      <td>...</td>\n",
              "      <td>...</td>\n",
              "    </tr>\n",
              "    <tr>\n",
              "      <th>1506</th>\n",
              "      <td>232.34</td>\n",
              "      <td>187.756561</td>\n",
              "    </tr>\n",
              "    <tr>\n",
              "      <th>1507</th>\n",
              "      <td>236.48</td>\n",
              "      <td>187.756393</td>\n",
              "    </tr>\n",
              "    <tr>\n",
              "      <th>1508</th>\n",
              "      <td>235.24</td>\n",
              "      <td>187.762085</td>\n",
              "    </tr>\n",
              "    <tr>\n",
              "      <th>1509</th>\n",
              "      <td>231.85</td>\n",
              "      <td>187.770294</td>\n",
              "    </tr>\n",
              "    <tr>\n",
              "      <th>1510</th>\n",
              "      <td>235.77</td>\n",
              "      <td>187.774826</td>\n",
              "    </tr>\n",
              "  </tbody>\n",
              "</table>\n",
              "<p>302 rows × 2 columns</p>\n",
              "</div>\n",
              "      <button class=\"colab-df-convert\" onclick=\"convertToInteractive('df-18493ae6-e953-4487-8180-8621af7ae349')\"\n",
              "              title=\"Convert this dataframe to an interactive table.\"\n",
              "              style=\"display:none;\">\n",
              "\n",
              "  <svg xmlns=\"http://www.w3.org/2000/svg\" height=\"24px\"viewBox=\"0 0 24 24\"\n",
              "       width=\"24px\">\n",
              "    <path d=\"M0 0h24v24H0V0z\" fill=\"none\"/>\n",
              "    <path d=\"M18.56 5.44l.94 2.06.94-2.06 2.06-.94-2.06-.94-.94-2.06-.94 2.06-2.06.94zm-11 1L8.5 8.5l.94-2.06 2.06-.94-2.06-.94L8.5 2.5l-.94 2.06-2.06.94zm10 10l.94 2.06.94-2.06 2.06-.94-2.06-.94-.94-2.06-.94 2.06-2.06.94z\"/><path d=\"M17.41 7.96l-1.37-1.37c-.4-.4-.92-.59-1.43-.59-.52 0-1.04.2-1.43.59L10.3 9.45l-7.72 7.72c-.78.78-.78 2.05 0 2.83L4 21.41c.39.39.9.59 1.41.59.51 0 1.02-.2 1.41-.59l7.78-7.78 2.81-2.81c.8-.78.8-2.07 0-2.86zM5.41 20L4 18.59l7.72-7.72 1.47 1.35L5.41 20z\"/>\n",
              "  </svg>\n",
              "      </button>\n",
              "\n",
              "\n",
              "\n",
              "    <div id=\"df-9e61c839-b294-4843-837a-8d8681a268d7\">\n",
              "      <button class=\"colab-df-quickchart\" onclick=\"quickchart('df-9e61c839-b294-4843-837a-8d8681a268d7')\"\n",
              "              title=\"Suggest charts.\"\n",
              "              style=\"display:none;\">\n",
              "\n",
              "<svg xmlns=\"http://www.w3.org/2000/svg\" height=\"24px\"viewBox=\"0 0 24 24\"\n",
              "     width=\"24px\">\n",
              "    <g>\n",
              "        <path d=\"M19 3H5c-1.1 0-2 .9-2 2v14c0 1.1.9 2 2 2h14c1.1 0 2-.9 2-2V5c0-1.1-.9-2-2-2zM9 17H7v-7h2v7zm4 0h-2V7h2v10zm4 0h-2v-4h2v4z\"/>\n",
              "    </g>\n",
              "</svg>\n",
              "      </button>\n",
              "    </div>\n",
              "\n",
              "<style>\n",
              "  .colab-df-quickchart {\n",
              "    background-color: #E8F0FE;\n",
              "    border: none;\n",
              "    border-radius: 50%;\n",
              "    cursor: pointer;\n",
              "    display: none;\n",
              "    fill: #1967D2;\n",
              "    height: 32px;\n",
              "    padding: 0 0 0 0;\n",
              "    width: 32px;\n",
              "  }\n",
              "\n",
              "  .colab-df-quickchart:hover {\n",
              "    background-color: #E2EBFA;\n",
              "    box-shadow: 0px 1px 2px rgba(60, 64, 67, 0.3), 0px 1px 3px 1px rgba(60, 64, 67, 0.15);\n",
              "    fill: #174EA6;\n",
              "  }\n",
              "\n",
              "  [theme=dark] .colab-df-quickchart {\n",
              "    background-color: #3B4455;\n",
              "    fill: #D2E3FC;\n",
              "  }\n",
              "\n",
              "  [theme=dark] .colab-df-quickchart:hover {\n",
              "    background-color: #434B5C;\n",
              "    box-shadow: 0px 1px 3px 1px rgba(0, 0, 0, 0.15);\n",
              "    filter: drop-shadow(0px 1px 2px rgba(0, 0, 0, 0.3));\n",
              "    fill: #FFFFFF;\n",
              "  }\n",
              "</style>\n",
              "\n",
              "    <script>\n",
              "      async function quickchart(key) {\n",
              "        const containerElement = document.querySelector('#' + key);\n",
              "        const charts = await google.colab.kernel.invokeFunction(\n",
              "            'suggestCharts', [key], {});\n",
              "      }\n",
              "    </script>\n",
              "\n",
              "      <script>\n",
              "\n",
              "function displayQuickchartButton(domScope) {\n",
              "  let quickchartButtonEl =\n",
              "    domScope.querySelector('#df-9e61c839-b294-4843-837a-8d8681a268d7 button.colab-df-quickchart');\n",
              "  quickchartButtonEl.style.display =\n",
              "    google.colab.kernel.accessAllowed ? 'block' : 'none';\n",
              "}\n",
              "\n",
              "        displayQuickchartButton(document);\n",
              "      </script>\n",
              "      <style>\n",
              "    .colab-df-container {\n",
              "      display:flex;\n",
              "      flex-wrap:wrap;\n",
              "      gap: 12px;\n",
              "    }\n",
              "\n",
              "    .colab-df-convert {\n",
              "      background-color: #E8F0FE;\n",
              "      border: none;\n",
              "      border-radius: 50%;\n",
              "      cursor: pointer;\n",
              "      display: none;\n",
              "      fill: #1967D2;\n",
              "      height: 32px;\n",
              "      padding: 0 0 0 0;\n",
              "      width: 32px;\n",
              "    }\n",
              "\n",
              "    .colab-df-convert:hover {\n",
              "      background-color: #E2EBFA;\n",
              "      box-shadow: 0px 1px 2px rgba(60, 64, 67, 0.3), 0px 1px 3px 1px rgba(60, 64, 67, 0.15);\n",
              "      fill: #174EA6;\n",
              "    }\n",
              "\n",
              "    [theme=dark] .colab-df-convert {\n",
              "      background-color: #3B4455;\n",
              "      fill: #D2E3FC;\n",
              "    }\n",
              "\n",
              "    [theme=dark] .colab-df-convert:hover {\n",
              "      background-color: #434B5C;\n",
              "      box-shadow: 0px 1px 3px 1px rgba(0, 0, 0, 0.15);\n",
              "      filter: drop-shadow(0px 1px 2px rgba(0, 0, 0, 0.3));\n",
              "      fill: #FFFFFF;\n",
              "    }\n",
              "  </style>\n",
              "\n",
              "      <script>\n",
              "        const buttonEl =\n",
              "          document.querySelector('#df-18493ae6-e953-4487-8180-8621af7ae349 button.colab-df-convert');\n",
              "        buttonEl.style.display =\n",
              "          google.colab.kernel.accessAllowed ? 'block' : 'none';\n",
              "\n",
              "        async function convertToInteractive(key) {\n",
              "          const element = document.querySelector('#df-18493ae6-e953-4487-8180-8621af7ae349');\n",
              "          const dataTable =\n",
              "            await google.colab.kernel.invokeFunction('convertToInteractive',\n",
              "                                                     [key], {});\n",
              "          if (!dataTable) return;\n",
              "\n",
              "          const docLinkHtml = 'Like what you see? Visit the ' +\n",
              "            '<a target=\"_blank\" href=https://colab.research.google.com/notebooks/data_table.ipynb>data table notebook</a>'\n",
              "            + ' to learn more about interactive tables.';\n",
              "          element.innerHTML = '';\n",
              "          dataTable['output_type'] = 'display_data';\n",
              "          await google.colab.output.renderOutput(dataTable, element);\n",
              "          const docLink = document.createElement('div');\n",
              "          docLink.innerHTML = docLinkHtml;\n",
              "          element.appendChild(docLink);\n",
              "        }\n",
              "      </script>\n",
              "    </div>\n",
              "  </div>\n"
            ]
          },
          "metadata": {},
          "execution_count": 26
        }
      ],
      "source": [
        "#show the valid and predicted value\n",
        "valid"
      ],
      "id": "50e8af8e"
    }
  ],
  "metadata": {
    "colab": {
      "provenance": []
    },
    "kernelspec": {
      "display_name": "Python 3 (ipykernel)",
      "language": "python",
      "name": "python3"
    },
    "language_info": {
      "codemirror_mode": {
        "name": "ipython",
        "version": 3
      },
      "file_extension": ".py",
      "mimetype": "text/x-python",
      "name": "python",
      "nbconvert_exporter": "python",
      "pygments_lexer": "ipython3",
      "version": "3.9.7"
    }
  },
  "nbformat": 4,
  "nbformat_minor": 5
}